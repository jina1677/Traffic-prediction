{
 "cells": [
  {
   "cell_type": "code",
   "execution_count": 2,
   "id": "ea2054c9",
   "metadata": {},
   "outputs": [],
   "source": [
    "import cv2\n",
    "import numpy as np\n",
    "import time\n",
    "import Vehicles\n",
    "import pandas as pd "
   ]
  },
  {
   "cell_type": "code",
   "execution_count": 3,
   "id": "f97fe1b4",
   "metadata": {},
   "outputs": [],
   "source": [
    "vehicle_up = 0\n",
    "vehicle_down = 0\n",
    "vehicles = [] # list of objects \n",
    "\n",
    "max_vehicle_weight = 5 \n",
    "vehicle_id = 1 \n",
    "\n",
    "\n",
    "df1_column_names = [\"Id\", \"Direction\", \"Timestamp\"]\n",
    "df1 = pd.DataFrame(columns = df1_column_names)\n",
    "\n",
    "df2_column_names = [\"Flow\", \"Timestamp\"]\n",
    "df1 = pd.DataFrame(columns = df2_column_names)"
   ]
  },
  {
   "cell_type": "code",
   "execution_count": 4,
   "id": "42960a9b",
   "metadata": {},
   "outputs": [
    {
     "name": "stdout",
     "output_type": "stream",
     "text": [
      "320.0\n"
     ]
    },
    {
     "name": "stderr",
     "output_type": "stream",
     "text": [
      "/tmp/ipykernel_2735/1698342973.py:7: DeprecationWarning: `np.int` is a deprecated alias for the builtin `int`. To silence this warning, use `int` by itself. Doing this will not modify any behavior and is safe. When replacing `np.int`, you may wish to use e.g. `np.int64` or `np.int32` to specify the precision. If you wish to review your current use, check the release note link for additional information.\n",
      "Deprecated in NumPy 1.20; for more details and guidance: https://numpy.org/devdocs/release/1.20.0-notes.html#deprecations\n",
      "  detector_up = np.int(2*(h/5))\n",
      "/tmp/ipykernel_2735/1698342973.py:8: DeprecationWarning: `np.int` is a deprecated alias for the builtin `int`. To silence this warning, use `int` by itself. Doing this will not modify any behavior and is safe. When replacing `np.int`, you may wish to use e.g. `np.int64` or `np.int32` to specify the precision. If you wish to review your current use, check the release note link for additional information.\n",
      "Deprecated in NumPy 1.20; for more details and guidance: https://numpy.org/devdocs/release/1.20.0-notes.html#deprecations\n",
      "  detector_down = np.int(3*(h/5))\n",
      "/tmp/ipykernel_2735/1698342973.py:10: DeprecationWarning: `np.int` is a deprecated alias for the builtin `int`. To silence this warning, use `int` by itself. Doing this will not modify any behavior and is safe. When replacing `np.int`, you may wish to use e.g. `np.int64` or `np.int32` to specify the precision. If you wish to review your current use, check the release note link for additional information.\n",
      "Deprecated in NumPy 1.20; for more details and guidance: https://numpy.org/devdocs/release/1.20.0-notes.html#deprecations\n",
      "  up_limit = np.int(1*(h/5)) # fifth of the horizon would be enough\n",
      "/tmp/ipykernel_2735/1698342973.py:11: DeprecationWarning: `np.int` is a deprecated alias for the builtin `int`. To silence this warning, use `int` by itself. Doing this will not modify any behavior and is safe. When replacing `np.int`, you may wish to use e.g. `np.int64` or `np.int32` to specify the precision. If you wish to review your current use, check the release note link for additional information.\n",
      "Deprecated in NumPy 1.20; for more details and guidance: https://numpy.org/devdocs/release/1.20.0-notes.html#deprecations\n",
      "  down_limit = np.int(4*(h/5))\n"
     ]
    },
    {
     "name": "stdout",
     "output_type": "stream",
     "text": [
      "EOF\n",
      "UP: 30\n",
      "DOWN: 8\n"
     ]
    }
   ],
   "source": [
    "cap = cv2.VideoCapture('video1.avi')\n",
    "w = cap.get(3)\n",
    "h = cap.get(4)\n",
    "print(w)\n",
    "frameArea = h*w\n",
    "detection_area= frameArea/320\n",
    "detector_up = np.int(2*(h/5)) \n",
    "detector_down = np.int(3*(h/5))\n",
    "# define tracking area \n",
    "up_limit = np.int(1*(h/5)) # fifth of the horizon would be enough \n",
    "down_limit = np.int(4*(h/5))\n",
    "# determine the area between the four lines \n",
    "\n",
    "area1 = np.array([[0,detector_down],[w,detector_down]], np.int32).reshape((-1,1,2))\n",
    "area2 = np.array([[0,detector_up],[w,detector_up]], np.int32).reshape((-1,1,2))\n",
    "area3 = np.array([[0,up_limit],[w,up_limit]], np.int32).reshape((-1,1,2))\n",
    "area4 = np.array([[0,down_limit],[w,down_limit]], np.int32).reshape((-1,1,2))\n",
    "background_substractor = cv2.createBackgroundSubtractorMOG2()\n",
    "while(cap.isOpened()):\n",
    "    _, frame = cap.read()\n",
    "    for i in vehicles:\n",
    "        i.get_weight()  \n",
    "    background_substractor_mask = background_substractor.apply(frame)\n",
    "    try:\n",
    "        cv2.imshow('First Frame', frame)\n",
    "        cv2.imshow('Backgroud Subtraction', background_substractor_mask)\n",
    "        # apply threshold on the mask\n",
    "        _, imBin = cv2.threshold(background_substractor_mask, 200, 255, cv2.THRESH_BINARY)\n",
    "        # remove noise \n",
    "        mask = cv2.morphologyEx(imBin, cv2.MORPH_OPEN,np.ones((3,3), np.uint8))\n",
    "        mask = cv2.morphologyEx(mask, cv2.MORPH_CLOSE, np.ones((11,11), np.uint8)) \n",
    "        cv2.imshow('Masked Image', cv2.resize(mask, (400, 400)))\n",
    "    except:\n",
    "        #If there is no more frames to show...\n",
    "        print('EOF')\n",
    "        print ('UP:', vehicle_up)\n",
    "        print ('DOWN:', vehicle_down)\n",
    "        break\n",
    "    contours, hierarchy = cv2.findContours(mask, cv2.RETR_EXTERNAL, cv2.CHAIN_APPROX_NONE)\n",
    "    for cnt in contours:\n",
    "         contour_area = cv2.contourArea(cnt)\n",
    "         # determine the distance to start tracking \n",
    "         if contour_area > detection_area and contour_area < 20000:\n",
    "             # determine the center of the contours\n",
    "            M = cv2.moments(cnt)\n",
    "             # get the cordinates of the center\n",
    "            center_x = int(M['m10']/M['m00'])\n",
    "            center_y = int(M['m01']/M['m00'])\n",
    "            # calculate the up-right bounding rectangle\n",
    "            x,y,w,h = cv2.boundingRect(cnt)\n",
    "            # try to seperate two close objects \n",
    "            new = True\n",
    "            for i in vehicles:\n",
    "                if abs(x-i.getX()) <= w and abs(y-i.getY()) <= h:\n",
    "                    # we are still inside the dimentions of the same contour\n",
    "                    new = False\n",
    "                    # Update the coordinates of the vehicle and reset weight \n",
    "                    i.updateCoords(center_x,center_y)\n",
    "                    if i.going_UP(detector_down, detector_up) == True:\n",
    "                        vehicle_up += 1\n",
    "                        #df1.append(i.getId(),\"up\",time.strftime(\"%c\"))\n",
    "                    elif i.going_DOWN(detector_down, detector_up) == True:\n",
    "                        vehicle_down += 1  \n",
    "                    #df1.append(i.getId(),\"down\",time.strftime(\"%c\"))\n",
    "                    break  \n",
    "                if i.getState() == '1':\n",
    "                    if i.getDir() == 'down' and i.getY() > down_limit:\n",
    "                        i.setDone()\n",
    "                    elif i.getDir() == 'up' and i.getY() < up_limit:\n",
    "                        i.setDone()\n",
    "                if i.timedOut():\n",
    "                    # Remove from the list\n",
    "                    index = vehicles.index(i)\n",
    "                    vehicles.pop(index)\n",
    "                    del i\n",
    "            if new == True:\n",
    "                p = Vehicles.Vehicles(vehicle_id,center_x,center_y, max_vehicle_weight)\n",
    "                vehicles.append(p)\n",
    "                vehicle_id += 1   \n",
    "            # draw rectangle    \n",
    "            img = cv2.rectangle(frame,(x,y),(x+w,y+h),(0,255,0),2) \n",
    "    frame = cv2.polylines(frame, [area1], False, (255,0,0), thickness=2)\n",
    "    frame = cv2.polylines(frame, [area2], False, (0,0,255), thickness=2)\n",
    "    frame = cv2.polylines(frame, [area3], False, (255,255,255), thickness=1)\n",
    "    frame = cv2.polylines(frame, [area4], False, (255,255,255), thickness=1)\n",
    "    cv2.imshow('Frame', cv2.resize(frame, (400, 400)))    \n",
    "    if cv2.waitKey(1) & 0xFF == ord('q'):\n",
    "        break   \n",
    "cap.release()\n",
    "cv2.destroyAllWindows()  \n",
    "\n",
    "\n",
    "\n",
    "                                                    \n"
   ]
  },
  {
   "cell_type": "code",
   "execution_count": 5,
   "id": "6ae558b3",
   "metadata": {},
   "outputs": [
    {
     "ename": "NameError",
     "evalue": "name 'model' is not defined",
     "output_type": "error",
     "traceback": [
      "\u001b[0;31m---------------------------------------------------------------------------\u001b[0m",
      "\u001b[0;31mNameError\u001b[0m                                 Traceback (most recent call last)",
      "Input \u001b[0;32mIn [5]\u001b[0m, in \u001b[0;36m<cell line: 1>\u001b[0;34m()\u001b[0m\n\u001b[0;32m----> 1\u001b[0m \u001b[43mmodel\u001b[49m\u001b[38;5;241m.\u001b[39msummary\n",
      "\u001b[0;31mNameError\u001b[0m: name 'model' is not defined"
     ]
    }
   ],
   "source": [
    "model.summary"
   ]
  },
  {
   "cell_type": "code",
   "execution_count": null,
   "id": "7f762583",
   "metadata": {},
   "outputs": [],
   "source": []
  }
 ],
 "metadata": {
  "kernelspec": {
   "display_name": "Python 3 (ipykernel)",
   "language": "python",
   "name": "python3"
  },
  "language_info": {
   "codemirror_mode": {
    "name": "ipython",
    "version": 3
   },
   "file_extension": ".py",
   "mimetype": "text/x-python",
   "name": "python",
   "nbconvert_exporter": "python",
   "pygments_lexer": "ipython3",
   "version": "3.8.10"
  }
 },
 "nbformat": 4,
 "nbformat_minor": 5
}
